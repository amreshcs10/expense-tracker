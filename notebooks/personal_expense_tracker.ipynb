{
 "cells": [
  {
   "cell_type": "code",
   "execution_count": 1,
   "id": "8763bad7",
   "metadata": {},
   "outputs": [],
   "source": [
    "import os\n",
    "import csv\n",
    "from datetime import datetime\n",
    "from pathlib import Path"
   ]
  },
  {
   "cell_type": "code",
   "execution_count": 2,
   "id": "75c122e4",
   "metadata": {},
   "outputs": [],
   "source": [
    "# List to store all expenses in memory\n",
    "expenses = []"
   ]
  },
  {
   "cell_type": "code",
   "execution_count": 3,
   "id": "abf84bdb",
   "metadata": {
    "lines_to_next_cell": 1
   },
   "outputs": [],
   "source": [
    "# Global variable for user's budget\n",
    "monthly_budget = 0.0"
   ]
  },
  {
   "cell_type": "code",
   "execution_count": 4,
   "id": "9ab240ec",
   "metadata": {},
   "outputs": [],
   "source": [
    "def get_expense_file_path():\n",
    "    \"\"\"\n",
    "    Returns the full path to the expense CSV file inside src/resources.\n",
    "    Ensures the directory exists even when run from outside src.\n",
    "    \"\"\"\n",
    "    try:\n",
    "        base_dir = Path(__file__).resolve().parent.parent\n",
    "    except NameError:\n",
    "        base_dir = Path.cwd()\n",
    "\n",
    "    resource_dir = base_dir / \"src\" / \"resources\"\n",
    "    resource_dir.mkdir(parents=True, exist_ok=True)\n",
    "\n",
    "    return resource_dir / \"personal_expenses.csv\""
   ]
  },
  {
   "cell_type": "code",
   "execution_count": 5,
   "id": "0eaab32b",
   "metadata": {
    "lines_to_next_cell": 1
   },
   "outputs": [],
   "source": [
    "# Location to store expenses, keeping this in a data seprate folder\n",
    "PERSONAL_EXPENSES_FILE = get_expense_file_path()"
   ]
  },
  {
   "cell_type": "code",
   "execution_count": 6,
   "id": "08ccbc5c",
   "metadata": {
    "lines_to_next_cell": 1
   },
   "outputs": [],
   "source": [
    "def add_expense():\n",
    "    \"\"\"\n",
    "    Prompts the user to input expense details.\n",
    "    Validates input and appends the new expense to the 'expenses' list.\n",
    "    Raises exceptions for invalid inputs; handled by main_menu() if thwron here.\n",
    "    \"\"\"\n",
    "    date = input(\"Enter the date (YYYY-MM-DD): \").strip()\n",
    "    datetime.strptime(date, \"%Y-%m-%d\")  # Validates date format\n",
    "\n",
    "    category = input(\"Enter the category (e.g., Food, Travel): \").strip()\n",
    "    if not category:\n",
    "        raise ValueError(\"Category cannot be empty.\")\n",
    "\n",
    "    amount = float(input(\"Enter the amount spent: \").strip())\n",
    "    if amount <= 0:\n",
    "        raise ValueError(\"Amount must be greater than zero.\")\n",
    "\n",
    "    description = input(\"Enter a brief description: \").strip()\n",
    "    if not description:\n",
    "        raise ValueError(\"Description cannot be empty.\")\n",
    "\n",
    "    expenses.append({\n",
    "        'date': date,\n",
    "        'category': category,\n",
    "        'amount': amount,\n",
    "        'description': description\n",
    "    })\n",
    "    print(\"================================================================================\")\n",
    "    print(\"Success: Expense added successfully at location \", PERSONAL_EXPENSES_FILE)\n",
    "    print(\"================================================================================\")"
   ]
  },
  {
   "cell_type": "code",
   "execution_count": 7,
   "id": "5ebddc58",
   "metadata": {},
   "outputs": [],
   "source": [
    "def view_expenses():\n",
    "    \"\"\"\n",
    "    Displays all recorded expenses in a readable format.\n",
    "    \"\"\"\n",
    "    if not expenses:\n",
    "        print(\"No expenses recorded.\")\n",
    "        return\n",
    "\n",
    "    print(\"\\n All Expenses:\")\n",
    "    for idx, exp in enumerate(expenses, start=1):\n",
    "        print(f\"{idx}. Date: {exp['date']}, Category: {exp['category']}, \"\n",
    "              f\"Amount: ₹{exp['amount']:.2f}, Description: {exp['description']}\")"
   ]
  },
  {
   "cell_type": "code",
   "execution_count": 8,
   "id": "db8511ca",
   "metadata": {},
   "outputs": [],
   "source": [
    "def track_budget():\n",
    "    \"\"\"\n",
    "    Prompts the user to set a budget if not already set.\n",
    "    Displays total spent and remaining budget.\n",
    "    Warns if the user has exceeded the budget.\n",
    "    \"\"\"\n",
    "    global monthly_budget\n",
    "\n",
    "    if monthly_budget == 0.0:\n",
    "        budget_input = input(\"Enter your monthly budget: \").strip()\n",
    "        try:\n",
    "            monthly_budget = float(budget_input)\n",
    "            if monthly_budget <= 0:\n",
    "                print(\"Budget must be greater than zero.\")\n",
    "                monthly_budget = 0.0\n",
    "                return\n",
    "        except ValueError:\n",
    "            print(\"Invalid input. Please enter a valid number.\")\n",
    "            return\n",
    "\n",
    "    total_spent = sum(exp['amount'] for exp in expenses)\n",
    "    remaining = monthly_budget - total_spent\n",
    "\n",
    "    print(f\"\\n💰 Total Spent: ₹{total_spent:.2f}\")\n",
    "    print(f\"📉 Budget Remaining: ₹{remaining:.2f}\")\n",
    "\n",
    "    if remaining < 0:\n",
    "        print(\"Warning: Budget Exceeded!\")"
   ]
  },
  {
   "cell_type": "code",
   "execution_count": 9,
   "id": "2cd4e243",
   "metadata": {},
   "outputs": [],
   "source": [
    "def save_expenses():\n",
    "    \"\"\"\n",
    "    Saves all expenses to a CSV file named 'expenses.csv'.\n",
    "    \"\"\"\n",
    "    with open(PERSONAL_EXPENSES_FILE, \"w\", newline='') as file:\n",
    "        writer = csv.DictWriter(file, fieldnames=['date', 'category', 'amount', 'description'])\n",
    "        writer.writeheader()\n",
    "        writer.writerows(expenses)"
   ]
  },
  {
   "cell_type": "code",
   "execution_count": 10,
   "id": "2f58d319",
   "metadata": {},
   "outputs": [],
   "source": [
    "def load_expenses():\n",
    "    \"\"\"\n",
    "    Loads expenses from 'expenses.csv' (if available) into the program.\n",
    "    Skips if file not found (first-time use).\n",
    "    \"\"\"\n",
    "    try:\n",
    "        with open(PERSONAL_EXPENSES_FILE, \"r\") as file:\n",
    "            reader = csv.DictReader(file)\n",
    "            for row in reader:\n",
    "                row['amount'] = float(row['amount'])  # Convert amount from string to float\n",
    "                expenses.append(row)\n",
    "    except FileNotFoundError:\n",
    "        pass  # Safe to skip if file doesn't exist"
   ]
  },
  {
   "cell_type": "code",
   "execution_count": 11,
   "id": "9c9c159d",
   "metadata": {},
   "outputs": [],
   "source": [
    "def main_menu():\n",
    "    \"\"\"\n",
    "    Main interaction loop for the user.\n",
    "    Handles navigation and centralized exception handling.\n",
    "    \"\"\"\n",
    "    load_expenses()\n",
    "\n",
    "    while True:\n",
    "        print(\"\\nPersonal Expense Tracker(Enter your input): \")\n",
    "        print(\"1. Add expense\")\n",
    "        print(\"2. View expenses\")\n",
    "        print(\"3. Track budget\")\n",
    "        print(\"4. Save expenses\")\n",
    "        print(\"5. Exit\")\n",
    "\n",
    "        choice = input(\"Enter your choice (1-5): \").strip()\n",
    "\n",
    "        try:\n",
    "            if choice == '1':\n",
    "                add_expense()\n",
    "            elif choice == '2':\n",
    "                view_expenses()\n",
    "            elif choice == '3':\n",
    "                track_budget()\n",
    "            elif choice == '4':\n",
    "                save_expenses()\n",
    "                print(\"================================================================================\")\n",
    "                print(\"Success: Expenses saved to file.\")\n",
    "                print(\"================================================================================\\n\")\n",
    "            elif choice == '5':\n",
    "                save_expenses()\n",
    "                print(\"================================================================================\")\n",
    "                print(\"Exiting. Expenses saved at location \", PERSONAL_EXPENSES_FILE)\n",
    "                print(\"================================================================================\\n\")\n",
    "                break\n",
    "            else:\n",
    "                print(\"================================================================================\")\n",
    "                print(\"Invalid choice. Please enter a number from 1 to 5.\")\n",
    "                print(\"================================================================================\\n\")\n",
    "\n",
    "        except ValueError as ve:\n",
    "            print(\"================================================================================\")\n",
    "            print(f\"Input Error: {ve}\")\n",
    "            print(\"================================================================================\\n\")\n",
    "        except Exception as e:\n",
    "            print(\"================================================================================\")\n",
    "            print(f\"Unexpected error occurred: {e}\")\n",
    "            print(\"================================================================================\\n\")"
   ]
  },
  {
   "cell_type": "code",
   "execution_count": 12,
   "id": "76c29806",
   "metadata": {},
   "outputs": [
    {
     "name": "stdout",
     "output_type": "stream",
     "text": [
      "\n",
      "Personal Expense Tracker(Enter your input): \n",
      "1. Add expense\n",
      "2. View expenses\n",
      "3. Track budget\n",
      "4. Save expenses\n",
      "5. Exit\n"
     ]
    },
    {
     "name": "stdin",
     "output_type": "stream",
     "text": [
      "Enter your choice (1-5):  1\n",
      "Enter the date (YYYY-MM-DD):  2025-08-02\n",
      "Enter the category (e.g., Food, Travel):  Food\n",
      "Enter the amount spent:  100\n",
      "Enter a brief description:  Burger\n"
     ]
    },
    {
     "name": "stdout",
     "output_type": "stream",
     "text": [
      "================================================================================\n",
      "Success: Expense added successfully at location  /Users/amresh/python/expense-tracker/notebooks/src/resources/personal_expenses.csv\n",
      "================================================================================\n",
      "\n",
      "Personal Expense Tracker(Enter your input): \n",
      "1. Add expense\n",
      "2. View expenses\n",
      "3. Track budget\n",
      "4. Save expenses\n",
      "5. Exit\n"
     ]
    },
    {
     "name": "stdin",
     "output_type": "stream",
     "text": [
      "Enter your choice (1-5):  2\n"
     ]
    },
    {
     "name": "stdout",
     "output_type": "stream",
     "text": [
      "\n",
      " All Expenses:\n",
      "1. Date: 2025-08-02, Category: Food, Amount: ₹100.00, Description: Burger\n",
      "\n",
      "Personal Expense Tracker(Enter your input): \n",
      "1. Add expense\n",
      "2. View expenses\n",
      "3. Track budget\n",
      "4. Save expenses\n",
      "5. Exit\n"
     ]
    },
    {
     "name": "stdin",
     "output_type": "stream",
     "text": [
      "Enter your choice (1-5):  3\n",
      "Enter your monthly budget:  500\n"
     ]
    },
    {
     "name": "stdout",
     "output_type": "stream",
     "text": [
      "\n",
      "💰 Total Spent: ₹100.00\n",
      "📉 Budget Remaining: ₹400.00\n",
      "\n",
      "Personal Expense Tracker(Enter your input): \n",
      "1. Add expense\n",
      "2. View expenses\n",
      "3. Track budget\n",
      "4. Save expenses\n",
      "5. Exit\n"
     ]
    },
    {
     "name": "stdin",
     "output_type": "stream",
     "text": [
      "Enter your choice (1-5):  1\n",
      "Enter the date (YYYY-MM-DD):  2025-08-03\n",
      "Enter the category (e.g., Food, Travel):  Travel\n",
      "Enter the amount spent:  200\n",
      "Enter a brief description:  Car\n"
     ]
    },
    {
     "name": "stdout",
     "output_type": "stream",
     "text": [
      "================================================================================\n",
      "Success: Expense added successfully at location  /Users/amresh/python/expense-tracker/notebooks/src/resources/personal_expenses.csv\n",
      "================================================================================\n",
      "\n",
      "Personal Expense Tracker(Enter your input): \n",
      "1. Add expense\n",
      "2. View expenses\n",
      "3. Track budget\n",
      "4. Save expenses\n",
      "5. Exit\n"
     ]
    },
    {
     "name": "stdin",
     "output_type": "stream",
     "text": [
      "Enter your choice (1-5):  2\n"
     ]
    },
    {
     "name": "stdout",
     "output_type": "stream",
     "text": [
      "\n",
      " All Expenses:\n",
      "1. Date: 2025-08-02, Category: Food, Amount: ₹100.00, Description: Burger\n",
      "2. Date: 2025-08-03, Category: Travel, Amount: ₹200.00, Description: Car\n",
      "\n",
      "Personal Expense Tracker(Enter your input): \n",
      "1. Add expense\n",
      "2. View expenses\n",
      "3. Track budget\n",
      "4. Save expenses\n",
      "5. Exit\n"
     ]
    },
    {
     "name": "stdin",
     "output_type": "stream",
     "text": [
      "Enter your choice (1-5):  3\n"
     ]
    },
    {
     "name": "stdout",
     "output_type": "stream",
     "text": [
      "\n",
      "💰 Total Spent: ₹300.00\n",
      "📉 Budget Remaining: ₹200.00\n",
      "\n",
      "Personal Expense Tracker(Enter your input): \n",
      "1. Add expense\n",
      "2. View expenses\n",
      "3. Track budget\n",
      "4. Save expenses\n",
      "5. Exit\n"
     ]
    },
    {
     "name": "stdin",
     "output_type": "stream",
     "text": [
      "Enter your choice (1-5):  4\n"
     ]
    },
    {
     "name": "stdout",
     "output_type": "stream",
     "text": [
      "================================================================================\n",
      "Success: Expenses saved to file.\n",
      "================================================================================\n",
      "\n",
      "\n",
      "Personal Expense Tracker(Enter your input): \n",
      "1. Add expense\n",
      "2. View expenses\n",
      "3. Track budget\n",
      "4. Save expenses\n",
      "5. Exit\n"
     ]
    },
    {
     "name": "stdin",
     "output_type": "stream",
     "text": [
      "Enter your choice (1-5):  5\n"
     ]
    },
    {
     "name": "stdout",
     "output_type": "stream",
     "text": [
      "================================================================================\n",
      "Exiting. Expenses saved at location  /Users/amresh/python/expense-tracker/notebooks/src/resources/personal_expenses.csv\n",
      "================================================================================\n",
      "\n"
     ]
    }
   ],
   "source": [
    "# Entry point for the program\n",
    "if __name__ == \"__main__\":\n",
    "    main_menu()"
   ]
  },
  {
   "cell_type": "code",
   "execution_count": null,
   "id": "1f6aa0c4-17e0-4a6f-8389-6e68f6965011",
   "metadata": {},
   "outputs": [],
   "source": []
  }
 ],
 "metadata": {
  "jupytext": {
   "cell_metadata_filter": "-all",
   "main_language": "python",
   "notebook_metadata_filter": "-all"
  },
  "kernelspec": {
   "display_name": "Python 3 (ipykernel)",
   "language": "python",
   "name": "python3"
  },
  "language_info": {
   "codemirror_mode": {
    "name": "ipython",
    "version": 3
   },
   "file_extension": ".py",
   "mimetype": "text/x-python",
   "name": "python",
   "nbconvert_exporter": "python",
   "pygments_lexer": "ipython3",
   "version": "3.13.5"
  }
 },
 "nbformat": 4,
 "nbformat_minor": 5
}
